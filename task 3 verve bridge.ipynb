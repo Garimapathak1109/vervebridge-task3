{
 "cells": [
  {
   "cell_type": "code",
   "execution_count": 1,
   "id": "072f08c7",
   "metadata": {},
   "outputs": [],
   "source": [
    "import pandas as pd\n"
   ]
  },
  {
   "cell_type": "code",
   "execution_count": 3,
   "id": "b8636e4a",
   "metadata": {},
   "outputs": [],
   "source": [
    "# Load the dataset\n",
    "file_path = \"C:/Users/patha/OneDrive/Desktop/internships/vervebridge/task 3/Football-Scenarios-DFE-832307.csv\"\n",
    "df = pd.read_csv(file_path)"
   ]
  },
  {
   "cell_type": "code",
   "execution_count": 4,
   "id": "70a2fe6a",
   "metadata": {},
   "outputs": [
    {
     "data": {
      "text/html": [
       "<div>\n",
       "<style scoped>\n",
       "    .dataframe tbody tr th:only-of-type {\n",
       "        vertical-align: middle;\n",
       "    }\n",
       "\n",
       "    .dataframe tbody tr th {\n",
       "        vertical-align: top;\n",
       "    }\n",
       "\n",
       "    .dataframe thead th {\n",
       "        text-align: right;\n",
       "    }\n",
       "</style>\n",
       "<table border=\"1\" class=\"dataframe\">\n",
       "  <thead>\n",
       "    <tr style=\"text-align: right;\">\n",
       "      <th></th>\n",
       "      <th>_unit_id</th>\n",
       "      <th>_golden</th>\n",
       "      <th>_unit_state</th>\n",
       "      <th>_trusted_judgments</th>\n",
       "      <th>_last_judgment_at</th>\n",
       "      <th>antecedent</th>\n",
       "      <th>antecedent:confidence</th>\n",
       "      <th>orig_antecedent</th>\n",
       "      <th>antecedent_gold</th>\n",
       "      <th>option1</th>\n",
       "      <th>option2</th>\n",
       "      <th>option3</th>\n",
       "      <th>option4</th>\n",
       "      <th>option5</th>\n",
       "    </tr>\n",
       "  </thead>\n",
       "  <tbody>\n",
       "    <tr>\n",
       "      <th>0</th>\n",
       "      <td>831005673</td>\n",
       "      <td>False</td>\n",
       "      <td>finalized</td>\n",
       "      <td>5</td>\n",
       "      <td>11/20/15 20:20</td>\n",
       "      <td>kick a field goal</td>\n",
       "      <td>0.8092</td>\n",
       "      <td>It is first down and 10. The ball is on your o...</td>\n",
       "      <td>NaN</td>\n",
       "      <td>punt</td>\n",
       "      <td>kick a field goal</td>\n",
       "      <td>run</td>\n",
       "      <td>pass</td>\n",
       "      <td>kneel down</td>\n",
       "    </tr>\n",
       "    <tr>\n",
       "      <th>1</th>\n",
       "      <td>831005674</td>\n",
       "      <td>False</td>\n",
       "      <td>finalized</td>\n",
       "      <td>5</td>\n",
       "      <td>11/18/15 21:59</td>\n",
       "      <td>kick a field goal</td>\n",
       "      <td>1.0000</td>\n",
       "      <td>It is second down and inches. The ball is on y...</td>\n",
       "      <td>NaN</td>\n",
       "      <td>punt</td>\n",
       "      <td>kick a field goal</td>\n",
       "      <td>run</td>\n",
       "      <td>pass</td>\n",
       "      <td>kneel down</td>\n",
       "    </tr>\n",
       "    <tr>\n",
       "      <th>2</th>\n",
       "      <td>831005675</td>\n",
       "      <td>False</td>\n",
       "      <td>finalized</td>\n",
       "      <td>5</td>\n",
       "      <td>11/20/15 22:43</td>\n",
       "      <td>kick a field goal</td>\n",
       "      <td>0.6211</td>\n",
       "      <td>It is second down and inches. The ball is on y...</td>\n",
       "      <td>NaN</td>\n",
       "      <td>punt</td>\n",
       "      <td>kick a field goal</td>\n",
       "      <td>run</td>\n",
       "      <td>pass</td>\n",
       "      <td>kneel down</td>\n",
       "    </tr>\n",
       "    <tr>\n",
       "      <th>3</th>\n",
       "      <td>831005676</td>\n",
       "      <td>False</td>\n",
       "      <td>finalized</td>\n",
       "      <td>5</td>\n",
       "      <td>11/19/15 7:41</td>\n",
       "      <td>kick a field goal</td>\n",
       "      <td>0.8073</td>\n",
       "      <td>It is second down and inches. The ball is on y...</td>\n",
       "      <td>NaN</td>\n",
       "      <td>punt</td>\n",
       "      <td>kick a field goal</td>\n",
       "      <td>run</td>\n",
       "      <td>pass</td>\n",
       "      <td>kneel down</td>\n",
       "    </tr>\n",
       "    <tr>\n",
       "      <th>4</th>\n",
       "      <td>831005677</td>\n",
       "      <td>False</td>\n",
       "      <td>finalized</td>\n",
       "      <td>5</td>\n",
       "      <td>11/21/15 8:01</td>\n",
       "      <td>kick a field goal</td>\n",
       "      <td>1.0000</td>\n",
       "      <td>It is second down and inches. The ball is on y...</td>\n",
       "      <td>NaN</td>\n",
       "      <td>punt</td>\n",
       "      <td>kick a field goal</td>\n",
       "      <td>run</td>\n",
       "      <td>pass</td>\n",
       "      <td>kneel down</td>\n",
       "    </tr>\n",
       "  </tbody>\n",
       "</table>\n",
       "</div>"
      ],
      "text/plain": [
       "    _unit_id  _golden _unit_state  _trusted_judgments _last_judgment_at  \\\n",
       "0  831005673    False   finalized                   5    11/20/15 20:20   \n",
       "1  831005674    False   finalized                   5    11/18/15 21:59   \n",
       "2  831005675    False   finalized                   5    11/20/15 22:43   \n",
       "3  831005676    False   finalized                   5     11/19/15 7:41   \n",
       "4  831005677    False   finalized                   5     11/21/15 8:01   \n",
       "\n",
       "          antecedent  antecedent:confidence  \\\n",
       "0  kick a field goal                 0.8092   \n",
       "1  kick a field goal                 1.0000   \n",
       "2  kick a field goal                 0.6211   \n",
       "3  kick a field goal                 0.8073   \n",
       "4  kick a field goal                 1.0000   \n",
       "\n",
       "                                     orig_antecedent antecedent_gold option1  \\\n",
       "0  It is first down and 10. The ball is on your o...             NaN    punt   \n",
       "1  It is second down and inches. The ball is on y...             NaN    punt   \n",
       "2  It is second down and inches. The ball is on y...             NaN    punt   \n",
       "3  It is second down and inches. The ball is on y...             NaN    punt   \n",
       "4  It is second down and inches. The ball is on y...             NaN    punt   \n",
       "\n",
       "              option2 option3 option4      option5  \n",
       "0   kick a field goal     run    pass   kneel down  \n",
       "1   kick a field goal     run    pass   kneel down  \n",
       "2   kick a field goal     run    pass   kneel down  \n",
       "3   kick a field goal     run    pass   kneel down  \n",
       "4   kick a field goal     run    pass   kneel down  "
      ]
     },
     "execution_count": 4,
     "metadata": {},
     "output_type": "execute_result"
    }
   ],
   "source": [
    "# Display the first few rows to inspect the data\n",
    "df.head()"
   ]
  },
  {
   "cell_type": "code",
   "execution_count": 5,
   "id": "73ced4c9",
   "metadata": {},
   "outputs": [],
   "source": [
    "# Dropping columns that are not useful for analysis or Power BI visualization\n",
    "columns_to_drop = ['_unit_id', '_golden', '_unit_state', '_trusted_judgments', '_last_judgment_at']\n",
    "df.drop(columns=columns_to_drop, inplace=True, errors='ignore')"
   ]
  },
  {
   "cell_type": "code",
   "execution_count": 6,
   "id": "a33bc995",
   "metadata": {},
   "outputs": [],
   "source": [
    "# Renaming columns for better readability in Power BI\n",
    "df.rename(columns={\n",
    "    'antecedent': 'Decision',\n",
    "    'antecedent:confidence': 'Decision_Confidence',\n",
    "    'orig_antecedent': 'Scenario',\n",
    "    'antecedent_gold': 'Gold_Standard'\n",
    "}, inplace=True)"
   ]
  },
  {
   "cell_type": "code",
   "execution_count": 7,
   "id": "706d48e2",
   "metadata": {},
   "outputs": [],
   "source": [
    "# Check the unique values in the decision confidence column to verify conversion is accurate\n",
    "df['Decision_Confidence'] = pd.to_numeric(df['Decision_Confidence'], errors='coerce')"
   ]
  },
  {
   "cell_type": "code",
   "execution_count": 8,
   "id": "62ed4bd6",
   "metadata": {},
   "outputs": [],
   "source": [
    "# Fill NaN values in categorical columns with 'Unknown' or 0 for numeric fields\n",
    "df.fillna({\n",
    "    'Gold_Standard': 'Unknown', \n",
    "    'Decision_Confidence': 0\n",
    "}, inplace=True)"
   ]
  },
  {
   "cell_type": "code",
   "execution_count": 9,
   "id": "419eefc9",
   "metadata": {},
   "outputs": [],
   "source": [
    "#One-hot encoding options if they represent distinct categories\n",
    "df = pd.concat([df, pd.get_dummies(df[['option1', 'option2', 'option3', 'option4', 'option5']].stack()).groupby(level=0).max()], axis=1)\n",
    "df.drop(columns=['option1', 'option2', 'option3', 'option4', 'option5'], inplace=True)"
   ]
  },
  {
   "cell_type": "code",
   "execution_count": 10,
   "id": "c55d7ec1",
   "metadata": {},
   "outputs": [
    {
     "name": "stdout",
     "output_type": "stream",
     "text": [
      "<class 'pandas.core.frame.DataFrame'>\n",
      "RangeIndex: 3730 entries, 0 to 3729\n",
      "Data columns (total 9 columns):\n",
      " #   Column               Non-Null Count  Dtype  \n",
      "---  ------               --------------  -----  \n",
      " 0   Decision             3730 non-null   object \n",
      " 1   Decision_Confidence  3730 non-null   float64\n",
      " 2   Scenario             3730 non-null   object \n",
      " 3   Gold_Standard        3730 non-null   object \n",
      " 4    kick a field goal   3730 non-null   bool   \n",
      " 5    kneel down          3730 non-null   bool   \n",
      " 6    pass                3730 non-null   bool   \n",
      " 7    punt                3730 non-null   bool   \n",
      " 8    run                 3730 non-null   bool   \n",
      "dtypes: bool(5), float64(1), object(3)\n",
      "memory usage: 134.9+ KB\n"
     ]
    }
   ],
   "source": [
    "# Check the dataset info to understand its structure\n",
    "df.info()\n"
   ]
  },
  {
   "cell_type": "code",
   "execution_count": 11,
   "id": "a0a05c67",
   "metadata": {},
   "outputs": [],
   "source": [
    "# Splitting a column if 'Time Left' has both minutes and seconds in one field\n",
    "if 'Time Left' in df.columns:\n",
    "    # Split 'Time Left' column into minutes and seconds\n",
    "    time_split = df['Time Left'].str.extract(r'(?P<Minutes>\\d+)\\s*mins?\\s*(?P<Seconds>\\d+)?')\n",
    "    time_split['Minutes'] = pd.to_numeric(time_split['Minutes'], errors='coerce')\n",
    "    time_split['Seconds'] = pd.to_numeric(time_split['Seconds'], errors='coerce').fillna(0)\n",
    "    # Drop original 'Time Left' and join new columns\n",
    "    df = df.drop(columns=['Time Left']).join(time_split)\n"
   ]
  },
  {
   "cell_type": "code",
   "execution_count": 12,
   "id": "3688214e",
   "metadata": {},
   "outputs": [],
   "source": [
    "#Convert 'Down' to a numeric data type if it's categorical\n",
    "if 'Down' in df.columns:\n",
    "    df['Down'] = pd.to_numeric(df['Down'], errors='coerce')"
   ]
  },
  {
   "cell_type": "code",
   "execution_count": 13,
   "id": "a3b57a8e",
   "metadata": {},
   "outputs": [],
   "source": [
    "# Convert other relevant columns to numeric types if needed\n",
    "numeric_columns = ['Yard Line', 'Score Difference']  # Adjust based on actual columns\n",
    "for col in numeric_columns:\n",
    "    if col in df.columns:\n",
    "        df[col] = pd.to_numeric(df[col], errors='coerce')"
   ]
  },
  {
   "cell_type": "code",
   "execution_count": 14,
   "id": "d093c2a7",
   "metadata": {},
   "outputs": [],
   "source": [
    "# Final check for missing values and clean up if needed\n",
    "df.fillna(0, inplace=True)\n"
   ]
  },
  {
   "cell_type": "code",
   "execution_count": 20,
   "id": "cf531761",
   "metadata": {},
   "outputs": [
    {
     "name": "stdout",
     "output_type": "stream",
     "text": [
      "Data has been cleaned and saved to: C:/Users/patha/OneDrive/Desktop/internships/vervebridge/task 3/cleaned_football_data.csv\n"
     ]
    }
   ],
   "source": [
    "# Export the cleaned data to a new CSV file ready for Power BI\n",
    "cleaned_file_path = \"C:/Users/patha/OneDrive/Desktop/internships/vervebridge/task 3/cleaned_football_data.csv\"\n",
    "df.to_csv(cleaned_file_path, index=False)\n",
    "print(\"Data has been cleaned and saved to:\", cleaned_file_path)"
   ]
  },
  {
   "cell_type": "code",
   "execution_count": 21,
   "id": "2111c8e2",
   "metadata": {},
   "outputs": [],
   "source": [
    "cleaned_file_path = \"C:/Users/patha/Documents/cleaned_football_data.csv\"\n",
    "df.to_csv(cleaned_file_path, index=False)"
   ]
  },
  {
   "cell_type": "code",
   "execution_count": null,
   "id": "0a1e5ca5",
   "metadata": {},
   "outputs": [],
   "source": []
  }
 ],
 "metadata": {
  "kernelspec": {
   "display_name": "Python 3 (ipykernel)",
   "language": "python",
   "name": "python3"
  },
  "language_info": {
   "codemirror_mode": {
    "name": "ipython",
    "version": 3
   },
   "file_extension": ".py",
   "mimetype": "text/x-python",
   "name": "python",
   "nbconvert_exporter": "python",
   "pygments_lexer": "ipython3",
   "version": "3.11.5"
  }
 },
 "nbformat": 4,
 "nbformat_minor": 5
}
